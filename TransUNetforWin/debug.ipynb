{
 "cells": [
  {
   "cell_type": "code",
   "execution_count": 3,
   "metadata": {},
   "outputs": [
    {
     "name": "stdout",
     "output_type": "stream",
     "text": [
      "another_integer_field: 234\n",
      "float_field: 12.6\n",
      "integer_field: 123\n",
      "nested:\n",
      "  string_field: tom\n",
      "\n"
     ]
    }
   ],
   "source": [
    "import ml_collections\n",
    "# 创建一个类似于字典的类\n",
    "# ML Collections是为ML use cases而设计的一个Python Collections的一个库。\n",
    "# 它的两个类是ConfigDict和FrozenConfigDict，是\"dict-like\" 的数据结构\n",
    "#通过.add_name即可添加数据。\n",
    "#由于是type_safe的，新的赋值需要与上一次赋值的类相同（原来是int的，只能再赋值为int型）\n",
    "\n",
    "cfg = ml_collections.ConfigDict()\n",
    "cfg.float_field = 12.6\n",
    "cfg.integer_field = 123\n",
    "cfg.another_integer_field = 234\n",
    "cfg.nested = ml_collections.ConfigDict()\n",
    "cfg.nested.string_field = 'tom'\n",
    "\n",
    "print(cfg)"
   ]
  },
  {
   "cell_type": "code",
   "execution_count": 6,
   "metadata": {},
   "outputs": [
    {
     "name": "stdout",
     "output_type": "stream",
     "text": [
      "tensor([[[[-0.5936, -1.5723],\n",
      "          [-0.9907, -0.6394]],\n",
      "\n",
      "         [[-0.5378,  0.8907],\n",
      "          [ 0.3812,  0.2824]],\n",
      "\n",
      "         [[-0.4175,  0.1793],\n",
      "          [-2.1888,  0.9633]]]])\n",
      "tensor([[[[-5.1354e-01, -1.1622e-01],\n",
      "          [ 1.3802e-01,  5.5687e-01]],\n",
      "\n",
      "         [[-1.5240e+00,  3.7857e-01],\n",
      "          [ 9.5743e-01,  7.4992e-04]],\n",
      "\n",
      "         [[-1.5583e+00, -3.4195e-01],\n",
      "          [-2.4634e+00, -1.0152e+00]]]])\n",
      "torch.Size([1, 3, 2, 4]) \n",
      " tensor([[[[-5.9360e-01, -1.5723e+00, -5.1354e-01, -1.1622e-01],\n",
      "          [-9.9071e-01, -6.3936e-01,  1.3802e-01,  5.5687e-01]],\n",
      "\n",
      "         [[-5.3776e-01,  8.9073e-01, -1.5240e+00,  3.7857e-01],\n",
      "          [ 3.8120e-01,  2.8243e-01,  9.5743e-01,  7.4992e-04]],\n",
      "\n",
      "         [[-4.1749e-01,  1.7929e-01, -1.5583e+00, -3.4195e-01],\n",
      "          [-2.1888e+00,  9.6325e-01, -2.4634e+00, -1.0152e+00]]]])\n"
     ]
    }
   ],
   "source": [
    "import torch\n",
    "x1 = torch.randn([1,3,2,2])\n",
    "print(x1)\n",
    "x2 = torch.randn([1,3,2,2])\n",
    "print(x2)\n",
    "x3 = torch.cat([x1,x2],dim=3)\n",
    "print(x3.shape, '\\n', x3)"
   ]
  },
  {
   "cell_type": "code",
   "execution_count": 8,
   "metadata": {},
   "outputs": [
    {
     "data": {
      "text/plain": [
       "tensor([[[[1., 2., 3., 4.],\n",
       "          [5., 6., 7., 8.]]]])"
      ]
     },
     "execution_count": 8,
     "metadata": {},
     "output_type": "execute_result"
    }
   ],
   "source": [
    "import torch\n",
    "import torch.nn as nn\n",
    "input = torch.arange(1, 9, dtype=torch.float32).view(1, 1, 2, 4)\n",
    "input"
   ]
  },
  {
   "cell_type": "code",
   "execution_count": 10,
   "metadata": {},
   "outputs": [
    {
     "data": {
      "text/plain": [
       "tensor([[[[1.0000, 2.0000, 3.0000, 4.0000],\n",
       "          [2.3333, 3.3333, 4.3333, 5.3333],\n",
       "          [3.6667, 4.6667, 5.6667, 6.6667],\n",
       "          [5.0000, 6.0000, 7.0000, 8.0000]]]])"
      ]
     },
     "execution_count": 10,
     "metadata": {},
     "output_type": "execute_result"
    }
   ],
   "source": [
    "m = nn.UpsamplingBilinear2d(size=(4,4))\n",
    "m(input)"
   ]
  },
  {
   "cell_type": "code",
   "execution_count": 13,
   "metadata": {},
   "outputs": [
    {
     "data": {
      "text/plain": [
       "[None, None]"
      ]
     },
     "execution_count": 13,
     "metadata": {},
     "output_type": "execute_result"
    }
   ],
   "source": [
    "li = [None]\n",
    "li.append(None)\n",
    "li"
   ]
  },
  {
   "cell_type": "code",
   "execution_count": 1,
   "metadata": {},
   "outputs": [
    {
     "name": "stdout",
     "output_type": "stream",
     "text": [
      "layer1 \n",
      "\n",
      "layer1 \n",
      "\n",
      "layer1 \n",
      "\n",
      "layer2 \n",
      "\n",
      "MODEL(\n",
      "  (layer1): Sequential(\n",
      "    (0): Conv2d(512, 32, kernel_size=(3, 3), stride=(1, 1))\n",
      "    (1): Linear(in_features=32, out_features=10, bias=True)\n",
      "  )\n",
      "  (layer2): ReLU()\n",
      ")\n"
     ]
    },
    {
     "name": "stderr",
     "output_type": "stream",
     "text": [
      "d:\\anaconda3\\envs\\TransUnet\\lib\\site-packages\\tqdm\\auto.py:22: TqdmWarning: IProgress not found. Please update jupyter and ipywidgets. See https://ipywidgets.readthedocs.io/en/stable/user_install.html\n",
      "  from .autonotebook import tqdm as notebook_tqdm\n"
     ]
    }
   ],
   "source": [
    "import torch\n",
    "import torch.nn as nn\n",
    "class MODEL(nn.Module):\n",
    "    def __init__(self) -> None:\n",
    "        super().__init__()\n",
    "        self.layer1=nn.Sequential(\n",
    "            nn.Conv2d(512,32,3),\n",
    "            nn.Linear(32,10),\n",
    "        )\n",
    "        self.layer2 = nn.ReLU()\n",
    "    def forward(self, x):\n",
    "        x = self.layer1(x)\n",
    "        x = nn.MaxPool2d((1,1),(1,1),1)(x)\n",
    "        x = self.layer2(x)\n",
    "        return x\n",
    "\n",
    "\n",
    "net = MODEL()\n",
    "for name, node in net.named_children():\n",
    "    print(name,'\\n')\n",
    "    for named, noded in node.named_children():\n",
    "        print(name,'\\n')\n",
    "print(net)"
   ]
  },
  {
   "cell_type": "code",
   "execution_count": 3,
   "metadata": {},
   "outputs": [
    {
     "name": "stdout",
     "output_type": "stream",
     "text": [
      "tensor([[[[1., 2.],\n",
      "          [3., 4.]]]])\n"
     ]
    },
    {
     "data": {
      "text/plain": [
       "tensor([[[[1., 2.],\n",
       "          [3., 4.]]]])"
      ]
     },
     "execution_count": 3,
     "metadata": {},
     "output_type": "execute_result"
    }
   ],
   "source": [
    "import torch\n",
    "import torch.nn as nn\n",
    "input = torch.arange(1, 5, dtype=torch.float32).view(1, 1, 2, 2)\n",
    "print(input)\n",
    "m = nn.UpsamplingBilinear2d(size=(2,2))\n",
    "m(input)\n"
   ]
  },
  {
   "cell_type": "code",
   "execution_count": 10,
   "metadata": {},
   "outputs": [
    {
     "name": "stdout",
     "output_type": "stream",
     "text": [
      "<class 'nibabel.nifti1.Nifti1Image'>\n",
      "data shape (512, 512, 100)\n",
      "affine: \n",
      "[[-1.  0.  0. -0.]\n",
      " [ 0. -1.  0. -0.]\n",
      " [ 0.  0.  1.  0.]\n",
      " [ 0.  0.  0.  1.]]\n",
      "metadata:\n",
      "<class 'nibabel.nifti1.Nifti1Header'> object, endian='<'\n",
      "sizeof_hdr      : 348\n",
      "data_type       : b''\n",
      "db_name         : b''\n",
      "extents         : 0\n",
      "session_error   : 0\n",
      "regular         : b'r'\n",
      "dim_info        : 0\n",
      "dim             : [  3 512 512 100   1   1   1   1]\n",
      "intent_p1       : 0.0\n",
      "intent_p2       : 0.0\n",
      "intent_p3       : 0.0\n",
      "intent_code     : none\n",
      "datatype        : int16\n",
      "bitpix          : 16\n",
      "slice_start     : 0\n",
      "pixdim          : [1. 1. 1. 1. 0. 0. 0. 0.]\n",
      "vox_offset      : 0.0\n",
      "scl_slope       : nan\n",
      "scl_inter       : nan\n",
      "slice_end       : 0\n",
      "slice_code      : unknown\n",
      "xyzt_units      : 2\n",
      "cal_max         : 0.0\n",
      "cal_min         : 0.0\n",
      "slice_duration  : 0.0\n",
      "toffset         : 0.0\n",
      "glmax           : 0\n",
      "glmin           : 0\n",
      "descrip         : b''\n",
      "aux_file        : b''\n",
      "qform_code      : scanner\n",
      "sform_code      : scanner\n",
      "quatern_b       : 0.0\n",
      "quatern_c       : 0.0\n",
      "quatern_d       : 1.0\n",
      "qoffset_x       : -0.0\n",
      "qoffset_y       : -0.0\n",
      "qoffset_z       : 0.0\n",
      "srow_x          : [-1.  0.  0. -0.]\n",
      "srow_y          : [ 0. -1.  0. -0.]\n",
      "srow_z          : [0. 0. 1. 0.]\n",
      "intent_name     : b''\n",
      "magic           : b'n+1'\n"
     ]
    }
   ],
   "source": [
    "import matplotlib.pyplot as plt\n",
    "import nibabel as nib\n",
    "img_arr = nib.load('../simpleitk_save.nii.gz')\n",
    "print(img_arr)\n",
    "#img_arr = img_arr[:,:,-1]\n",
    "#plt.imshow(img_arr)\n",
    "# plt.pause(3)"
   ]
  },
  {
   "cell_type": "code",
   "execution_count": 9,
   "metadata": {},
   "outputs": [],
   "source": [
    "import SimpleITK as sitk\n",
    "import numpy as np\n",
    "itk_img = sitk.ReadImage('../case0038_gt.nii.gz')\n",
    "img = sitk.GetArrayFromImage(itk_img)\n",
    "out = img.astype(np.int16)\n",
    "out = sitk.GetImageFromArray(out)\n",
    "sitk.WriteImage(out,'../simpleitk_save.nii.gz')"
   ]
  }
 ],
 "metadata": {
  "kernelspec": {
   "display_name": "TransUnet",
   "language": "python",
   "name": "python3"
  },
  "language_info": {
   "codemirror_mode": {
    "name": "ipython",
    "version": 3
   },
   "file_extension": ".py",
   "mimetype": "text/x-python",
   "name": "python",
   "nbconvert_exporter": "python",
   "pygments_lexer": "ipython3",
   "version": "3.7.12 | packaged by conda-forge | (default, Oct 26 2021, 05:35:01) [MSC v.1916 64 bit (AMD64)]"
  },
  "orig_nbformat": 4,
  "vscode": {
   "interpreter": {
    "hash": "c23dcb6566b49dc26b4a7e840f01829ca1aed5f14215149a83a0765b46b07280"
   }
  }
 },
 "nbformat": 4,
 "nbformat_minor": 2
}
